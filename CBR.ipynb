{
 "cells": [
  {
   "cell_type": "markdown",
   "metadata": {},
   "source": [
    "# Тестовое задание ЦБ РФ"
   ]
  },
  {
   "cell_type": "code",
   "execution_count": 4,
   "metadata": {},
   "outputs": [],
   "source": [
    "import sklearn\n",
    "import pandas as pd\n",
    "import pymorphy2\n",
    "from sklearn.feature_extraction.text import CountVectorizer\n",
    "from sklearn.feature_extraction.text import TfidfVectorizer\n",
    "from sklearn.model_selection import GridSearchCV\n",
    "from sklearn.model_selection import ShuffleSplit, cross_val_score, train_test_split\n",
    "from sklearn.naive_bayes import MultinomialNB\n",
    "from sklearn.linear_model import SGDClassifier"
   ]
  },
  {
   "cell_type": "code",
   "execution_count": 5,
   "metadata": {},
   "outputs": [
    {
     "data": {
      "text/html": [
       "<div>\n",
       "<style scoped>\n",
       "    .dataframe tbody tr th:only-of-type {\n",
       "        vertical-align: middle;\n",
       "    }\n",
       "\n",
       "    .dataframe tbody tr th {\n",
       "        vertical-align: top;\n",
       "    }\n",
       "\n",
       "    .dataframe thead th {\n",
       "        text-align: right;\n",
       "    }\n",
       "</style>\n",
       "<table border=\"1\" class=\"dataframe\">\n",
       "  <thead>\n",
       "    <tr style=\"text-align: right;\">\n",
       "      <th></th>\n",
       "      <th>text</th>\n",
       "      <th>label</th>\n",
       "    </tr>\n",
       "  </thead>\n",
       "  <tbody>\n",
       "    <tr>\n",
       "      <th>0</th>\n",
       "      <td>@first_timee хоть я и школота, но поверь, у на...</td>\n",
       "      <td>1</td>\n",
       "    </tr>\n",
       "    <tr>\n",
       "      <th>1</th>\n",
       "      <td>Да, все-таки он немного похож на него. Но мой ...</td>\n",
       "      <td>1</td>\n",
       "    </tr>\n",
       "    <tr>\n",
       "      <th>2</th>\n",
       "      <td>RT @KatiaCheh: Ну ты идиотка) я испугалась за ...</td>\n",
       "      <td>1</td>\n",
       "    </tr>\n",
       "    <tr>\n",
       "      <th>3</th>\n",
       "      <td>RT @digger2912: \"Кто то в углу сидит и погибае...</td>\n",
       "      <td>1</td>\n",
       "    </tr>\n",
       "    <tr>\n",
       "      <th>4</th>\n",
       "      <td>@irina_dyshkant Вот что значит страшилка :D\\nН...</td>\n",
       "      <td>1</td>\n",
       "    </tr>\n",
       "  </tbody>\n",
       "</table>\n",
       "</div>"
      ],
      "text/plain": [
       "                                                text  label\n",
       "0  @first_timee хоть я и школота, но поверь, у на...      1\n",
       "1  Да, все-таки он немного похож на него. Но мой ...      1\n",
       "2  RT @KatiaCheh: Ну ты идиотка) я испугалась за ...      1\n",
       "3  RT @digger2912: \"Кто то в углу сидит и погибае...      1\n",
       "4  @irina_dyshkant Вот что значит страшилка :D\\nН...      1"
      ]
     },
     "execution_count": 5,
     "metadata": {},
     "output_type": "execute_result"
    }
   ],
   "source": [
    "positive = pd.read_csv('positive.csv', sep=';', header=None)\n",
    "negative = pd.read_csv('negative.csv', sep=';', header=None)\n",
    "dataset = pd.concat([positive, negative])\n",
    "dataset = dataset[[3, 4]]\n",
    "dataset.columns = ['text', 'label']\n",
    "dataset.head()"
   ]
  },
  {
   "cell_type": "code",
   "execution_count": 6,
   "metadata": {},
   "outputs": [],
   "source": [
    "morph = pymorphy2.MorphAnalyzer()"
   ]
  },
  {
   "cell_type": "code",
   "execution_count": 7,
   "metadata": {},
   "outputs": [],
   "source": [
    "def text_cleaner(text):\n",
    "    text = text.lower()\n",
    "    alph = 'абвгдеёжзийклмнопрстуфхцчшщъыьэюя'\n",
    "    # удаляем все кроме русских букв\n",
    "    cleaned_text = ''\n",
    "    for char in text:\n",
    "        if (char.isalpha() and char[0] in alph) or (char == ' '):\n",
    "            cleaned_text += char       \n",
    "    result = []\n",
    "    # лемматизация\n",
    "    for word in cleaned_text.split():        \n",
    "        result.append(morph.parse(word)[0].normal_form)                              \n",
    "    return ' '.join(result)\n",
    "\n",
    "dataset['text'] = dataset['text'].apply(text_cleaner)\n",
    "dataset.to_csv('cleaned_data.csv')"
   ]
  },
  {
   "cell_type": "code",
   "execution_count": 8,
   "metadata": {},
   "outputs": [
    {
     "data": {
      "text/html": [
       "<div>\n",
       "<style scoped>\n",
       "    .dataframe tbody tr th:only-of-type {\n",
       "        vertical-align: middle;\n",
       "    }\n",
       "\n",
       "    .dataframe tbody tr th {\n",
       "        vertical-align: top;\n",
       "    }\n",
       "\n",
       "    .dataframe thead th {\n",
       "        text-align: right;\n",
       "    }\n",
       "</style>\n",
       "<table border=\"1\" class=\"dataframe\">\n",
       "  <thead>\n",
       "    <tr style=\"text-align: right;\">\n",
       "      <th></th>\n",
       "      <th>text</th>\n",
       "      <th>label</th>\n",
       "    </tr>\n",
       "  </thead>\n",
       "  <tbody>\n",
       "    <tr>\n",
       "      <th>0</th>\n",
       "      <td>хоть я и школотый но поверь у мы то же самый о...</td>\n",
       "      <td>1</td>\n",
       "    </tr>\n",
       "    <tr>\n",
       "      <th>1</th>\n",
       "      <td>да всетаки он немного похожий на он но мой мал...</td>\n",
       "      <td>1</td>\n",
       "    </tr>\n",
       "    <tr>\n",
       "      <th>2</th>\n",
       "      <td>ну ты идиотка я испугаться за ты</td>\n",
       "      <td>1</td>\n",
       "    </tr>\n",
       "    <tr>\n",
       "      <th>3</th>\n",
       "      <td>кто то в угол сидеть и погибать от голод а мы ...</td>\n",
       "      <td>1</td>\n",
       "    </tr>\n",
       "    <tr>\n",
       "      <th>4</th>\n",
       "      <td>вот что значит страшилка но блинпосмотреть вес...</td>\n",
       "      <td>1</td>\n",
       "    </tr>\n",
       "  </tbody>\n",
       "</table>\n",
       "</div>"
      ],
      "text/plain": [
       "                                                text  label\n",
       "0  хоть я и школотый но поверь у мы то же самый о...      1\n",
       "1  да всетаки он немного похожий на он но мой мал...      1\n",
       "2                   ну ты идиотка я испугаться за ты      1\n",
       "3  кто то в угол сидеть и погибать от голод а мы ...      1\n",
       "4  вот что значит страшилка но блинпосмотреть вес...      1"
      ]
     },
     "execution_count": 8,
     "metadata": {},
     "output_type": "execute_result"
    }
   ],
   "source": [
    "dataset.head()"
   ]
  },
  {
   "cell_type": "code",
   "execution_count": 5,
   "metadata": {},
   "outputs": [],
   "source": [
    "dataset = pd.read_csv('cleaned_data.csv', index_col=0).dropna()"
   ]
  },
  {
   "cell_type": "code",
   "execution_count": 6,
   "metadata": {},
   "outputs": [],
   "source": [
    "ngram = [(1, 1), (1, 2), (1, 3), (2, 2), (3, 3)]"
   ]
  },
  {
   "cell_type": "code",
   "execution_count": 7,
   "metadata": {},
   "outputs": [
    {
     "name": "stdout",
     "output_type": "stream",
     "text": [
      "N-gram: (1, 1)\n",
      "Vectorizer\n",
      "Naive: 0.7254595952916281\n",
      "-----------------------------------\n",
      "TF-IDF\n",
      "Naive: 0.7216373495569368\n",
      "-----------------------------------\n",
      "N-gram: (1, 2)\n",
      "Vectorizer\n",
      "Naive: 0.7435303972137725\n",
      "-----------------------------------\n",
      "TF-IDF\n",
      "Naive: 0.7460653352731119\n",
      "-----------------------------------\n",
      "N-gram: (1, 3)\n",
      "Vectorizer\n",
      "Naive: 0.7433099678173082\n",
      "-----------------------------------\n",
      "TF-IDF\n",
      "Naive: 0.749407044923511\n",
      "-----------------------------------\n",
      "N-gram: (2, 2)\n",
      "Vectorizer\n",
      "Naive: 0.6876868139135035\n",
      "-----------------------------------\n",
      "TF-IDF\n",
      "Naive: 0.698152801657629\n",
      "-----------------------------------\n",
      "N-gram: (3, 3)\n",
      "Vectorizer\n",
      "Naive: 0.5962218401446017\n",
      "-----------------------------------\n",
      "TF-IDF\n",
      "Naive: 0.6366662258078738\n",
      "-----------------------------------\n"
     ]
    }
   ],
   "source": [
    "for ngram_scheme in ngram:\n",
    "    print('N-gram:', ngram_scheme)\n",
    "\n",
    "    count_vectorizer = CountVectorizer(analyzer = \"word\", ngram_range=ngram_scheme) \n",
    "    tfidf_vectorizer = TfidfVectorizer(analyzer = \"word\", ngram_range=ngram_scheme)\n",
    "    vectorizers = [count_vectorizer, tfidf_vectorizer]\n",
    "    vectorizers_names = ['Vectorizer', 'TF-IDF']\n",
    "\n",
    "    for i in range(len(vectorizers)):\n",
    "        print(vectorizers_names[i])\n",
    "        vectorizer = vectorizers[i]\n",
    "        X = vectorizer.fit_transform(dataset['text'])\n",
    "        y = dataset['label']\n",
    "        cv = ShuffleSplit(test_size=0.1, random_state=42)\n",
    "        clf = MultinomialNB()\n",
    "        NB_result = cross_val_score(clf, X, y, cv=cv).mean()\n",
    "\n",
    "        print('Naive:', NB_result.mean())\n",
    "        print('-----------------------------------')"
   ]
  },
  {
   "cell_type": "code",
   "execution_count": 8,
   "metadata": {},
   "outputs": [
    {
     "name": "stdout",
     "output_type": "stream",
     "text": [
      "N-gram: (1, 1)\n",
      "Vectorizer\n"
     ]
    },
    {
     "name": "stderr",
     "output_type": "stream",
     "text": [
      "C:\\Users\\Ravin\\Anaconda2\\envs\\coursera_ds\\lib\\site-packages\\sklearn\\linear_model\\stochastic_gradient.py:166: FutureWarning: max_iter and tol parameters have been added in SGDClassifier in 0.19. If both are left unset, they default to max_iter=5 and tol=None. If tol is not None, max_iter defaults to max_iter=1000. From 0.21, default max_iter will be 1000, and default tol will be 1e-3.\n",
      "  FutureWarning)\n"
     ]
    },
    {
     "name": "stdout",
     "output_type": "stream",
     "text": [
      "SGD: 0.7193316580699202\n",
      "Good parameters: {'alpha': 0.0001, 'loss': 'hinge', 'penalty': 'l2'}\n",
      "-----------------------------------\n",
      "TF-IDF\n",
      "SGD: 0.7297800114623286\n",
      "Good parameters: {'alpha': 1e-05, 'loss': 'hinge', 'penalty': 'l2'}\n",
      "-----------------------------------\n",
      "N-gram: (1, 2)\n",
      "Vectorizer\n",
      "SGD: 0.7475378036414936\n",
      "Good parameters: {'alpha': 1e-05, 'loss': 'log', 'penalty': 'l2'}\n",
      "-----------------------------------\n",
      "TF-IDF\n",
      "SGD: 0.7553939073314817\n",
      "Good parameters: {'alpha': 1e-06, 'loss': 'log', 'penalty': 'l2'}\n",
      "-----------------------------------\n",
      "N-gram: (1, 3)\n",
      "Vectorizer\n",
      "SGD: 0.7553939073314817\n",
      "Good parameters: {'alpha': 1e-05, 'loss': 'log', 'penalty': 'l2'}\n",
      "-----------------------------------\n",
      "TF-IDF\n",
      "SGD: 0.7592381960058193\n",
      "Good parameters: {'alpha': 1e-06, 'loss': 'log', 'penalty': 'l2'}\n",
      "-----------------------------------\n",
      "N-gram: (2, 2)\n",
      "Vectorizer\n",
      "SGD: 0.6972887184234889\n",
      "Good parameters: {'alpha': 1e-05, 'loss': 'log', 'penalty': 'l2'}\n",
      "-----------------------------------\n",
      "TF-IDF\n",
      "SGD: 0.69987655953798\n",
      "Good parameters: {'alpha': 1e-06, 'loss': 'log', 'penalty': 'l2'}\n",
      "-----------------------------------\n",
      "N-gram: (3, 3)\n",
      "Vectorizer\n",
      "SGD: 0.6328175285456068\n",
      "Good parameters: {'alpha': 1e-05, 'loss': 'log', 'penalty': 'l2'}\n",
      "-----------------------------------\n",
      "TF-IDF\n",
      "SGD: 0.6341004276330291\n",
      "Good parameters: {'alpha': 1e-06, 'loss': 'log', 'penalty': 'l2'}\n",
      "-----------------------------------\n"
     ]
    }
   ],
   "source": [
    "for ngram_scheme in ngram:\n",
    "    print('N-gram:', ngram_scheme)\n",
    "\n",
    "    count_vectorizer = CountVectorizer(analyzer = \"word\", ngram_range=ngram_scheme) \n",
    "    tfidf_vectorizer = TfidfVectorizer(analyzer = \"word\", ngram_range=ngram_scheme)\n",
    "    vectorizers = [count_vectorizer, tfidf_vectorizer]\n",
    "    vectorizers_names = ['Vectorizer', 'TF-IDF']\n",
    "    for i in range(len(vectorizers)):\n",
    "        print(vectorizers_names[i])\n",
    "        vectorizer = vectorizers[i]\n",
    "        X = vectorizer.fit_transform(dataset['text'])\n",
    "        y = dataset['label']\n",
    "\n",
    "        cv = ShuffleSplit(test_size=0.1, random_state=42)\n",
    "\n",
    "        clf = SGDClassifier()\n",
    "        parameters = {\n",
    "            'loss': ('log', 'hinge'),\n",
    "            'penalty': ['none', 'l1', 'l2'],\n",
    "            'alpha': [0.001, 0.0001, 0.00001, 0.000001]\n",
    "        }\n",
    "        gs_clf = GridSearchCV(clf, parameters, cv=cv)\n",
    "        gs_clf = gs_clf.fit(X, y)\n",
    "        L_result = gs_clf.best_score_\n",
    "\n",
    "        print('SGD:', L_result)\n",
    "        print('Good parameters:', gs_clf.best_params_)\n",
    "        print('-----------------------------------')"
   ]
  },
  {
   "cell_type": "code",
   "execution_count": null,
   "metadata": {},
   "outputs": [],
   "source": []
  }
 ],
 "metadata": {
  "kernelspec": {
   "display_name": "Python 3",
   "language": "python",
   "name": "python3"
  },
  "language_info": {
   "codemirror_mode": {
    "name": "ipython",
    "version": 3
   },
   "file_extension": ".py",
   "mimetype": "text/x-python",
   "name": "python",
   "nbconvert_exporter": "python",
   "pygments_lexer": "ipython3",
   "version": "3.6.8"
  }
 },
 "nbformat": 4,
 "nbformat_minor": 2
}
